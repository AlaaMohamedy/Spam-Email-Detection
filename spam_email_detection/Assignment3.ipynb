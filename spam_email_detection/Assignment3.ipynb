{
  "cells": [
    {
      "cell_type": "code",
      "execution_count": null,
      "metadata": {
        "id": "cQ0y4H5yMkRY"
      },
      "outputs": [],
      "source": [
        "import numpy as np\n",
        "import matplotlib.pyplot as plt\n",
        "import pandas as pd\n",
        "import tensorflow as tf\n",
        "import os\n",
        "import random\n",
        "from sklearn.preprocessing import LabelEncoder , StandardScaler\n",
        "from keras.layers import Dense\n",
        "from keras.models import Sequential\n",
        "from keras.layers import Dropout\n",
        "from sklearn.metrics import confusion_matrix,f1_score, precision_score,recall_score,accuracy_score"
      ]
    },
    {
      "cell_type": "code",
      "execution_count": null,
      "metadata": {
        "id": "4YVUZgYsM1-A"
      },
      "outputs": [],
      "source": [
        "dataset = pd.read_csv('https://archive.ics.uci.edu/ml/machine-learning-databases/spambase/spambase.data')"
      ]
    },
    {
      "cell_type": "code",
      "execution_count": null,
      "metadata": {
        "colab": {
          "base_uri": "https://localhost:8080/",
          "height": 424
        },
        "id": "HuWEQjRKM7ih",
        "outputId": "e2db64df-f3c7-4fff-b478-2e538a4c33f2"
      },
      "outputs": [
        {
          "output_type": "execute_result",
          "data": {
            "text/plain": [
              "         0  0.64  0.64.1  0.1  0.32   0.2   0.3   0.4   0.5   0.6  ...   0.40  \\\n",
              "0     0.21  0.28    0.50  0.0  0.14  0.28  0.21  0.07  0.00  0.94  ...  0.000   \n",
              "1     0.06  0.00    0.71  0.0  1.23  0.19  0.19  0.12  0.64  0.25  ...  0.010   \n",
              "2     0.00  0.00    0.00  0.0  0.63  0.00  0.31  0.63  0.31  0.63  ...  0.000   \n",
              "3     0.00  0.00    0.00  0.0  0.63  0.00  0.31  0.63  0.31  0.63  ...  0.000   \n",
              "4     0.00  0.00    0.00  0.0  1.85  0.00  0.00  1.85  0.00  0.00  ...  0.000   \n",
              "...    ...   ...     ...  ...   ...   ...   ...   ...   ...   ...  ...    ...   \n",
              "4595  0.31  0.00    0.62  0.0  0.00  0.31  0.00  0.00  0.00  0.00  ...  0.000   \n",
              "4596  0.00  0.00    0.00  0.0  0.00  0.00  0.00  0.00  0.00  0.00  ...  0.000   \n",
              "4597  0.30  0.00    0.30  0.0  0.00  0.00  0.00  0.00  0.00  0.00  ...  0.102   \n",
              "4598  0.96  0.00    0.00  0.0  0.32  0.00  0.00  0.00  0.00  0.00  ...  0.000   \n",
              "4599  0.00  0.00    0.65  0.0  0.00  0.00  0.00  0.00  0.00  0.00  ...  0.000   \n",
              "\n",
              "       0.41  0.42  0.778   0.43   0.44  3.756   61   278  1  \n",
              "0     0.132   0.0  0.372  0.180  0.048  5.114  101  1028  1  \n",
              "1     0.143   0.0  0.276  0.184  0.010  9.821  485  2259  1  \n",
              "2     0.137   0.0  0.137  0.000  0.000  3.537   40   191  1  \n",
              "3     0.135   0.0  0.135  0.000  0.000  3.537   40   191  1  \n",
              "4     0.223   0.0  0.000  0.000  0.000  3.000   15    54  1  \n",
              "...     ...   ...    ...    ...    ...    ...  ...   ... ..  \n",
              "4595  0.232   0.0  0.000  0.000  0.000  1.142    3    88  0  \n",
              "4596  0.000   0.0  0.353  0.000  0.000  1.555    4    14  0  \n",
              "4597  0.718   0.0  0.000  0.000  0.000  1.404    6   118  0  \n",
              "4598  0.057   0.0  0.000  0.000  0.000  1.147    5    78  0  \n",
              "4599  0.000   0.0  0.125  0.000  0.000  1.250    5    40  0  \n",
              "\n",
              "[4600 rows x 58 columns]"
            ],
            "text/html": [
              "\n",
              "  <div id=\"df-12ff846e-8764-4daf-bc1e-e7db90e35dff\">\n",
              "    <div class=\"colab-df-container\">\n",
              "      <div>\n",
              "<style scoped>\n",
              "    .dataframe tbody tr th:only-of-type {\n",
              "        vertical-align: middle;\n",
              "    }\n",
              "\n",
              "    .dataframe tbody tr th {\n",
              "        vertical-align: top;\n",
              "    }\n",
              "\n",
              "    .dataframe thead th {\n",
              "        text-align: right;\n",
              "    }\n",
              "</style>\n",
              "<table border=\"1\" class=\"dataframe\">\n",
              "  <thead>\n",
              "    <tr style=\"text-align: right;\">\n",
              "      <th></th>\n",
              "      <th>0</th>\n",
              "      <th>0.64</th>\n",
              "      <th>0.64.1</th>\n",
              "      <th>0.1</th>\n",
              "      <th>0.32</th>\n",
              "      <th>0.2</th>\n",
              "      <th>0.3</th>\n",
              "      <th>0.4</th>\n",
              "      <th>0.5</th>\n",
              "      <th>0.6</th>\n",
              "      <th>...</th>\n",
              "      <th>0.40</th>\n",
              "      <th>0.41</th>\n",
              "      <th>0.42</th>\n",
              "      <th>0.778</th>\n",
              "      <th>0.43</th>\n",
              "      <th>0.44</th>\n",
              "      <th>3.756</th>\n",
              "      <th>61</th>\n",
              "      <th>278</th>\n",
              "      <th>1</th>\n",
              "    </tr>\n",
              "  </thead>\n",
              "  <tbody>\n",
              "    <tr>\n",
              "      <th>0</th>\n",
              "      <td>0.21</td>\n",
              "      <td>0.28</td>\n",
              "      <td>0.50</td>\n",
              "      <td>0.0</td>\n",
              "      <td>0.14</td>\n",
              "      <td>0.28</td>\n",
              "      <td>0.21</td>\n",
              "      <td>0.07</td>\n",
              "      <td>0.00</td>\n",
              "      <td>0.94</td>\n",
              "      <td>...</td>\n",
              "      <td>0.000</td>\n",
              "      <td>0.132</td>\n",
              "      <td>0.0</td>\n",
              "      <td>0.372</td>\n",
              "      <td>0.180</td>\n",
              "      <td>0.048</td>\n",
              "      <td>5.114</td>\n",
              "      <td>101</td>\n",
              "      <td>1028</td>\n",
              "      <td>1</td>\n",
              "    </tr>\n",
              "    <tr>\n",
              "      <th>1</th>\n",
              "      <td>0.06</td>\n",
              "      <td>0.00</td>\n",
              "      <td>0.71</td>\n",
              "      <td>0.0</td>\n",
              "      <td>1.23</td>\n",
              "      <td>0.19</td>\n",
              "      <td>0.19</td>\n",
              "      <td>0.12</td>\n",
              "      <td>0.64</td>\n",
              "      <td>0.25</td>\n",
              "      <td>...</td>\n",
              "      <td>0.010</td>\n",
              "      <td>0.143</td>\n",
              "      <td>0.0</td>\n",
              "      <td>0.276</td>\n",
              "      <td>0.184</td>\n",
              "      <td>0.010</td>\n",
              "      <td>9.821</td>\n",
              "      <td>485</td>\n",
              "      <td>2259</td>\n",
              "      <td>1</td>\n",
              "    </tr>\n",
              "    <tr>\n",
              "      <th>2</th>\n",
              "      <td>0.00</td>\n",
              "      <td>0.00</td>\n",
              "      <td>0.00</td>\n",
              "      <td>0.0</td>\n",
              "      <td>0.63</td>\n",
              "      <td>0.00</td>\n",
              "      <td>0.31</td>\n",
              "      <td>0.63</td>\n",
              "      <td>0.31</td>\n",
              "      <td>0.63</td>\n",
              "      <td>...</td>\n",
              "      <td>0.000</td>\n",
              "      <td>0.137</td>\n",
              "      <td>0.0</td>\n",
              "      <td>0.137</td>\n",
              "      <td>0.000</td>\n",
              "      <td>0.000</td>\n",
              "      <td>3.537</td>\n",
              "      <td>40</td>\n",
              "      <td>191</td>\n",
              "      <td>1</td>\n",
              "    </tr>\n",
              "    <tr>\n",
              "      <th>3</th>\n",
              "      <td>0.00</td>\n",
              "      <td>0.00</td>\n",
              "      <td>0.00</td>\n",
              "      <td>0.0</td>\n",
              "      <td>0.63</td>\n",
              "      <td>0.00</td>\n",
              "      <td>0.31</td>\n",
              "      <td>0.63</td>\n",
              "      <td>0.31</td>\n",
              "      <td>0.63</td>\n",
              "      <td>...</td>\n",
              "      <td>0.000</td>\n",
              "      <td>0.135</td>\n",
              "      <td>0.0</td>\n",
              "      <td>0.135</td>\n",
              "      <td>0.000</td>\n",
              "      <td>0.000</td>\n",
              "      <td>3.537</td>\n",
              "      <td>40</td>\n",
              "      <td>191</td>\n",
              "      <td>1</td>\n",
              "    </tr>\n",
              "    <tr>\n",
              "      <th>4</th>\n",
              "      <td>0.00</td>\n",
              "      <td>0.00</td>\n",
              "      <td>0.00</td>\n",
              "      <td>0.0</td>\n",
              "      <td>1.85</td>\n",
              "      <td>0.00</td>\n",
              "      <td>0.00</td>\n",
              "      <td>1.85</td>\n",
              "      <td>0.00</td>\n",
              "      <td>0.00</td>\n",
              "      <td>...</td>\n",
              "      <td>0.000</td>\n",
              "      <td>0.223</td>\n",
              "      <td>0.0</td>\n",
              "      <td>0.000</td>\n",
              "      <td>0.000</td>\n",
              "      <td>0.000</td>\n",
              "      <td>3.000</td>\n",
              "      <td>15</td>\n",
              "      <td>54</td>\n",
              "      <td>1</td>\n",
              "    </tr>\n",
              "    <tr>\n",
              "      <th>...</th>\n",
              "      <td>...</td>\n",
              "      <td>...</td>\n",
              "      <td>...</td>\n",
              "      <td>...</td>\n",
              "      <td>...</td>\n",
              "      <td>...</td>\n",
              "      <td>...</td>\n",
              "      <td>...</td>\n",
              "      <td>...</td>\n",
              "      <td>...</td>\n",
              "      <td>...</td>\n",
              "      <td>...</td>\n",
              "      <td>...</td>\n",
              "      <td>...</td>\n",
              "      <td>...</td>\n",
              "      <td>...</td>\n",
              "      <td>...</td>\n",
              "      <td>...</td>\n",
              "      <td>...</td>\n",
              "      <td>...</td>\n",
              "      <td>...</td>\n",
              "    </tr>\n",
              "    <tr>\n",
              "      <th>4595</th>\n",
              "      <td>0.31</td>\n",
              "      <td>0.00</td>\n",
              "      <td>0.62</td>\n",
              "      <td>0.0</td>\n",
              "      <td>0.00</td>\n",
              "      <td>0.31</td>\n",
              "      <td>0.00</td>\n",
              "      <td>0.00</td>\n",
              "      <td>0.00</td>\n",
              "      <td>0.00</td>\n",
              "      <td>...</td>\n",
              "      <td>0.000</td>\n",
              "      <td>0.232</td>\n",
              "      <td>0.0</td>\n",
              "      <td>0.000</td>\n",
              "      <td>0.000</td>\n",
              "      <td>0.000</td>\n",
              "      <td>1.142</td>\n",
              "      <td>3</td>\n",
              "      <td>88</td>\n",
              "      <td>0</td>\n",
              "    </tr>\n",
              "    <tr>\n",
              "      <th>4596</th>\n",
              "      <td>0.00</td>\n",
              "      <td>0.00</td>\n",
              "      <td>0.00</td>\n",
              "      <td>0.0</td>\n",
              "      <td>0.00</td>\n",
              "      <td>0.00</td>\n",
              "      <td>0.00</td>\n",
              "      <td>0.00</td>\n",
              "      <td>0.00</td>\n",
              "      <td>0.00</td>\n",
              "      <td>...</td>\n",
              "      <td>0.000</td>\n",
              "      <td>0.000</td>\n",
              "      <td>0.0</td>\n",
              "      <td>0.353</td>\n",
              "      <td>0.000</td>\n",
              "      <td>0.000</td>\n",
              "      <td>1.555</td>\n",
              "      <td>4</td>\n",
              "      <td>14</td>\n",
              "      <td>0</td>\n",
              "    </tr>\n",
              "    <tr>\n",
              "      <th>4597</th>\n",
              "      <td>0.30</td>\n",
              "      <td>0.00</td>\n",
              "      <td>0.30</td>\n",
              "      <td>0.0</td>\n",
              "      <td>0.00</td>\n",
              "      <td>0.00</td>\n",
              "      <td>0.00</td>\n",
              "      <td>0.00</td>\n",
              "      <td>0.00</td>\n",
              "      <td>0.00</td>\n",
              "      <td>...</td>\n",
              "      <td>0.102</td>\n",
              "      <td>0.718</td>\n",
              "      <td>0.0</td>\n",
              "      <td>0.000</td>\n",
              "      <td>0.000</td>\n",
              "      <td>0.000</td>\n",
              "      <td>1.404</td>\n",
              "      <td>6</td>\n",
              "      <td>118</td>\n",
              "      <td>0</td>\n",
              "    </tr>\n",
              "    <tr>\n",
              "      <th>4598</th>\n",
              "      <td>0.96</td>\n",
              "      <td>0.00</td>\n",
              "      <td>0.00</td>\n",
              "      <td>0.0</td>\n",
              "      <td>0.32</td>\n",
              "      <td>0.00</td>\n",
              "      <td>0.00</td>\n",
              "      <td>0.00</td>\n",
              "      <td>0.00</td>\n",
              "      <td>0.00</td>\n",
              "      <td>...</td>\n",
              "      <td>0.000</td>\n",
              "      <td>0.057</td>\n",
              "      <td>0.0</td>\n",
              "      <td>0.000</td>\n",
              "      <td>0.000</td>\n",
              "      <td>0.000</td>\n",
              "      <td>1.147</td>\n",
              "      <td>5</td>\n",
              "      <td>78</td>\n",
              "      <td>0</td>\n",
              "    </tr>\n",
              "    <tr>\n",
              "      <th>4599</th>\n",
              "      <td>0.00</td>\n",
              "      <td>0.00</td>\n",
              "      <td>0.65</td>\n",
              "      <td>0.0</td>\n",
              "      <td>0.00</td>\n",
              "      <td>0.00</td>\n",
              "      <td>0.00</td>\n",
              "      <td>0.00</td>\n",
              "      <td>0.00</td>\n",
              "      <td>0.00</td>\n",
              "      <td>...</td>\n",
              "      <td>0.000</td>\n",
              "      <td>0.000</td>\n",
              "      <td>0.0</td>\n",
              "      <td>0.125</td>\n",
              "      <td>0.000</td>\n",
              "      <td>0.000</td>\n",
              "      <td>1.250</td>\n",
              "      <td>5</td>\n",
              "      <td>40</td>\n",
              "      <td>0</td>\n",
              "    </tr>\n",
              "  </tbody>\n",
              "</table>\n",
              "<p>4600 rows × 58 columns</p>\n",
              "</div>\n",
              "      <button class=\"colab-df-convert\" onclick=\"convertToInteractive('df-12ff846e-8764-4daf-bc1e-e7db90e35dff')\"\n",
              "              title=\"Convert this dataframe to an interactive table.\"\n",
              "              style=\"display:none;\">\n",
              "        \n",
              "  <svg xmlns=\"http://www.w3.org/2000/svg\" height=\"24px\"viewBox=\"0 0 24 24\"\n",
              "       width=\"24px\">\n",
              "    <path d=\"M0 0h24v24H0V0z\" fill=\"none\"/>\n",
              "    <path d=\"M18.56 5.44l.94 2.06.94-2.06 2.06-.94-2.06-.94-.94-2.06-.94 2.06-2.06.94zm-11 1L8.5 8.5l.94-2.06 2.06-.94-2.06-.94L8.5 2.5l-.94 2.06-2.06.94zm10 10l.94 2.06.94-2.06 2.06-.94-2.06-.94-.94-2.06-.94 2.06-2.06.94z\"/><path d=\"M17.41 7.96l-1.37-1.37c-.4-.4-.92-.59-1.43-.59-.52 0-1.04.2-1.43.59L10.3 9.45l-7.72 7.72c-.78.78-.78 2.05 0 2.83L4 21.41c.39.39.9.59 1.41.59.51 0 1.02-.2 1.41-.59l7.78-7.78 2.81-2.81c.8-.78.8-2.07 0-2.86zM5.41 20L4 18.59l7.72-7.72 1.47 1.35L5.41 20z\"/>\n",
              "  </svg>\n",
              "      </button>\n",
              "      \n",
              "  <style>\n",
              "    .colab-df-container {\n",
              "      display:flex;\n",
              "      flex-wrap:wrap;\n",
              "      gap: 12px;\n",
              "    }\n",
              "\n",
              "    .colab-df-convert {\n",
              "      background-color: #E8F0FE;\n",
              "      border: none;\n",
              "      border-radius: 50%;\n",
              "      cursor: pointer;\n",
              "      display: none;\n",
              "      fill: #1967D2;\n",
              "      height: 32px;\n",
              "      padding: 0 0 0 0;\n",
              "      width: 32px;\n",
              "    }\n",
              "\n",
              "    .colab-df-convert:hover {\n",
              "      background-color: #E2EBFA;\n",
              "      box-shadow: 0px 1px 2px rgba(60, 64, 67, 0.3), 0px 1px 3px 1px rgba(60, 64, 67, 0.15);\n",
              "      fill: #174EA6;\n",
              "    }\n",
              "\n",
              "    [theme=dark] .colab-df-convert {\n",
              "      background-color: #3B4455;\n",
              "      fill: #D2E3FC;\n",
              "    }\n",
              "\n",
              "    [theme=dark] .colab-df-convert:hover {\n",
              "      background-color: #434B5C;\n",
              "      box-shadow: 0px 1px 3px 1px rgba(0, 0, 0, 0.15);\n",
              "      filter: drop-shadow(0px 1px 2px rgba(0, 0, 0, 0.3));\n",
              "      fill: #FFFFFF;\n",
              "    }\n",
              "  </style>\n",
              "\n",
              "      <script>\n",
              "        const buttonEl =\n",
              "          document.querySelector('#df-12ff846e-8764-4daf-bc1e-e7db90e35dff button.colab-df-convert');\n",
              "        buttonEl.style.display =\n",
              "          google.colab.kernel.accessAllowed ? 'block' : 'none';\n",
              "\n",
              "        async function convertToInteractive(key) {\n",
              "          const element = document.querySelector('#df-12ff846e-8764-4daf-bc1e-e7db90e35dff');\n",
              "          const dataTable =\n",
              "            await google.colab.kernel.invokeFunction('convertToInteractive',\n",
              "                                                     [key], {});\n",
              "          if (!dataTable) return;\n",
              "\n",
              "          const docLinkHtml = 'Like what you see? Visit the ' +\n",
              "            '<a target=\"_blank\" href=https://colab.research.google.com/notebooks/data_table.ipynb>data table notebook</a>'\n",
              "            + ' to learn more about interactive tables.';\n",
              "          element.innerHTML = '';\n",
              "          dataTable['output_type'] = 'display_data';\n",
              "          await google.colab.output.renderOutput(dataTable, element);\n",
              "          const docLink = document.createElement('div');\n",
              "          docLink.innerHTML = docLinkHtml;\n",
              "          element.appendChild(docLink);\n",
              "        }\n",
              "      </script>\n",
              "    </div>\n",
              "  </div>\n",
              "  "
            ]
          },
          "metadata": {},
          "execution_count": 3
        }
      ],
      "source": [
        "dataset"
      ]
    },
    {
      "cell_type": "code",
      "execution_count": null,
      "metadata": {
        "id": "zRI9ZzPtM-DC"
      },
      "outputs": [],
      "source": [
        "X, y = dataset.iloc[:, :57].values, dataset.iloc[:, 57].values"
      ]
    },
    {
      "cell_type": "code",
      "execution_count": null,
      "metadata": {
        "id": "jAOw0S6SNGf9"
      },
      "outputs": [],
      "source": [
        "X = StandardScaler().fit_transform(X)"
      ]
    },
    {
      "cell_type": "code",
      "execution_count": null,
      "metadata": {
        "id": "sBOjhKUnNj9P"
      },
      "outputs": [],
      "source": [
        "from sklearn.model_selection import train_test_split\n",
        "x_train,x_test,y_train,y_test = train_test_split (X ,y ,test_size = 0.2 ,random_state = 0)"
      ]
    },
    {
      "cell_type": "code",
      "execution_count": null,
      "metadata": {
        "id": "rCpMDR_pNrJl"
      },
      "outputs": [],
      "source": [
        "model = Sequential()\n",
        "model.add(Dropout(0.2, input_shape=(57,)))\n",
        "model.add(Dense(units=10,\n",
        "                activation='tanh'))\n",
        "model.add(Dense(units=5,\n",
        "                activation='tanh'))\n",
        "model.add(Dense(units=1,\n",
        "                activation='sigmoid',\n",
        "                name='output'))\n",
        "model.compile(loss='binary_crossentropy',\n",
        "              optimizer='adam',\n",
        "              metrics=['acc'])\n"
      ]
    },
    {
      "cell_type": "code",
      "execution_count": null,
      "metadata": {
        "colab": {
          "base_uri": "https://localhost:8080/"
        },
        "id": "-3E6K-07N4F_",
        "outputId": "f16418f0-13fa-496a-bbe1-2d64b7404971"
      },
      "outputs": [
        {
          "output_type": "stream",
          "name": "stdout",
          "text": [
            "Epoch 1/100\n",
            "230/230 [==============================] - 3s 5ms/step - loss: 0.4927 - acc: 0.7682 - val_loss: 0.2859 - val_acc: 0.9120\n",
            "Epoch 2/100\n",
            "230/230 [==============================] - 1s 3ms/step - loss: 0.2841 - acc: 0.8957 - val_loss: 0.2154 - val_acc: 0.9337\n",
            "Epoch 3/100\n",
            "230/230 [==============================] - 1s 3ms/step - loss: 0.2438 - acc: 0.9136 - val_loss: 0.1970 - val_acc: 0.9348\n",
            "Epoch 4/100\n",
            "230/230 [==============================] - 1s 4ms/step - loss: 0.2295 - acc: 0.9166 - val_loss: 0.1864 - val_acc: 0.9348\n",
            "Epoch 5/100\n",
            "230/230 [==============================] - 1s 3ms/step - loss: 0.2249 - acc: 0.9196 - val_loss: 0.1816 - val_acc: 0.9380\n",
            "Epoch 6/100\n",
            "230/230 [==============================] - 1s 4ms/step - loss: 0.2185 - acc: 0.9212 - val_loss: 0.1795 - val_acc: 0.9348\n",
            "Epoch 7/100\n",
            "230/230 [==============================] - 1s 4ms/step - loss: 0.2108 - acc: 0.9226 - val_loss: 0.1737 - val_acc: 0.9380\n",
            "Epoch 8/100\n",
            "230/230 [==============================] - 1s 5ms/step - loss: 0.2114 - acc: 0.9185 - val_loss: 0.1681 - val_acc: 0.9391\n",
            "Epoch 9/100\n",
            "230/230 [==============================] - 1s 5ms/step - loss: 0.2151 - acc: 0.9177 - val_loss: 0.1686 - val_acc: 0.9413\n",
            "Epoch 10/100\n",
            "230/230 [==============================] - 1s 5ms/step - loss: 0.2047 - acc: 0.9201 - val_loss: 0.1676 - val_acc: 0.9435\n",
            "Epoch 11/100\n",
            "230/230 [==============================] - 1s 4ms/step - loss: 0.2165 - acc: 0.9174 - val_loss: 0.1611 - val_acc: 0.9424\n",
            "Epoch 12/100\n",
            "230/230 [==============================] - 1s 4ms/step - loss: 0.2025 - acc: 0.9239 - val_loss: 0.1615 - val_acc: 0.9370\n",
            "Epoch 13/100\n",
            "230/230 [==============================] - 1s 4ms/step - loss: 0.2015 - acc: 0.9212 - val_loss: 0.1600 - val_acc: 0.9402\n",
            "Epoch 14/100\n",
            "230/230 [==============================] - 1s 3ms/step - loss: 0.2042 - acc: 0.9223 - val_loss: 0.1620 - val_acc: 0.9359\n",
            "Epoch 15/100\n",
            "230/230 [==============================] - 1s 4ms/step - loss: 0.1995 - acc: 0.9234 - val_loss: 0.1566 - val_acc: 0.9424\n",
            "Epoch 16/100\n",
            "230/230 [==============================] - 1s 4ms/step - loss: 0.2038 - acc: 0.9207 - val_loss: 0.1564 - val_acc: 0.9380\n",
            "Epoch 17/100\n",
            "230/230 [==============================] - 1s 3ms/step - loss: 0.1898 - acc: 0.9291 - val_loss: 0.1536 - val_acc: 0.9370\n",
            "Epoch 18/100\n",
            "230/230 [==============================] - 1s 4ms/step - loss: 0.1938 - acc: 0.9234 - val_loss: 0.1522 - val_acc: 0.9370\n",
            "Epoch 19/100\n",
            "230/230 [==============================] - 1s 3ms/step - loss: 0.1932 - acc: 0.9250 - val_loss: 0.1512 - val_acc: 0.9391\n",
            "Epoch 20/100\n",
            "230/230 [==============================] - 1s 3ms/step - loss: 0.1836 - acc: 0.9302 - val_loss: 0.1521 - val_acc: 0.9402\n",
            "Epoch 21/100\n",
            "230/230 [==============================] - 1s 3ms/step - loss: 0.1904 - acc: 0.9242 - val_loss: 0.1474 - val_acc: 0.9424\n",
            "Epoch 22/100\n",
            "230/230 [==============================] - 1s 3ms/step - loss: 0.1959 - acc: 0.9228 - val_loss: 0.1479 - val_acc: 0.9413\n",
            "Epoch 23/100\n",
            "230/230 [==============================] - 1s 4ms/step - loss: 0.1851 - acc: 0.9264 - val_loss: 0.1469 - val_acc: 0.9402\n",
            "Epoch 24/100\n",
            "230/230 [==============================] - 1s 5ms/step - loss: 0.1921 - acc: 0.9261 - val_loss: 0.1473 - val_acc: 0.9370\n",
            "Epoch 25/100\n",
            "230/230 [==============================] - 1s 5ms/step - loss: 0.1911 - acc: 0.9258 - val_loss: 0.1481 - val_acc: 0.9446\n",
            "Epoch 26/100\n",
            "230/230 [==============================] - 1s 3ms/step - loss: 0.1867 - acc: 0.9277 - val_loss: 0.1478 - val_acc: 0.9478\n",
            "Epoch 27/100\n",
            "230/230 [==============================] - 1s 3ms/step - loss: 0.1884 - acc: 0.9274 - val_loss: 0.1452 - val_acc: 0.9424\n",
            "Epoch 28/100\n",
            "230/230 [==============================] - 1s 3ms/step - loss: 0.1809 - acc: 0.9326 - val_loss: 0.1444 - val_acc: 0.9413\n",
            "Epoch 29/100\n",
            "230/230 [==============================] - 1s 3ms/step - loss: 0.1839 - acc: 0.9318 - val_loss: 0.1474 - val_acc: 0.9402\n",
            "Epoch 30/100\n",
            "230/230 [==============================] - 1s 3ms/step - loss: 0.1821 - acc: 0.9312 - val_loss: 0.1423 - val_acc: 0.9467\n",
            "Epoch 31/100\n",
            "230/230 [==============================] - 1s 3ms/step - loss: 0.1808 - acc: 0.9310 - val_loss: 0.1429 - val_acc: 0.9446\n",
            "Epoch 32/100\n",
            "230/230 [==============================] - 1s 4ms/step - loss: 0.1681 - acc: 0.9378 - val_loss: 0.1436 - val_acc: 0.9413\n",
            "Epoch 33/100\n",
            "230/230 [==============================] - 1s 3ms/step - loss: 0.1720 - acc: 0.9340 - val_loss: 0.1409 - val_acc: 0.9446\n",
            "Epoch 34/100\n",
            "230/230 [==============================] - 1s 3ms/step - loss: 0.1779 - acc: 0.9302 - val_loss: 0.1418 - val_acc: 0.9424\n",
            "Epoch 35/100\n",
            "230/230 [==============================] - 1s 3ms/step - loss: 0.1734 - acc: 0.9332 - val_loss: 0.1413 - val_acc: 0.9424\n",
            "Epoch 36/100\n",
            "230/230 [==============================] - 1s 3ms/step - loss: 0.1780 - acc: 0.9304 - val_loss: 0.1412 - val_acc: 0.9446\n",
            "Epoch 37/100\n",
            "230/230 [==============================] - 1s 3ms/step - loss: 0.1803 - acc: 0.9296 - val_loss: 0.1370 - val_acc: 0.9457\n",
            "Epoch 38/100\n",
            "230/230 [==============================] - 1s 4ms/step - loss: 0.1723 - acc: 0.9323 - val_loss: 0.1369 - val_acc: 0.9435\n",
            "Epoch 39/100\n",
            "230/230 [==============================] - 1s 5ms/step - loss: 0.1736 - acc: 0.9318 - val_loss: 0.1418 - val_acc: 0.9446\n",
            "Epoch 40/100\n",
            "230/230 [==============================] - 1s 5ms/step - loss: 0.1780 - acc: 0.9340 - val_loss: 0.1373 - val_acc: 0.9446\n",
            "Epoch 41/100\n",
            "230/230 [==============================] - 1s 3ms/step - loss: 0.1706 - acc: 0.9351 - val_loss: 0.1352 - val_acc: 0.9435\n",
            "Epoch 42/100\n",
            "230/230 [==============================] - 1s 3ms/step - loss: 0.1707 - acc: 0.9323 - val_loss: 0.1377 - val_acc: 0.9446\n",
            "Epoch 43/100\n",
            "230/230 [==============================] - 1s 4ms/step - loss: 0.1710 - acc: 0.9329 - val_loss: 0.1381 - val_acc: 0.9435\n",
            "Epoch 44/100\n",
            "230/230 [==============================] - 1s 4ms/step - loss: 0.1756 - acc: 0.9293 - val_loss: 0.1399 - val_acc: 0.9424\n",
            "Epoch 45/100\n",
            "230/230 [==============================] - 1s 4ms/step - loss: 0.1726 - acc: 0.9367 - val_loss: 0.1437 - val_acc: 0.9424\n",
            "Epoch 46/100\n",
            "230/230 [==============================] - 1s 4ms/step - loss: 0.1719 - acc: 0.9351 - val_loss: 0.1398 - val_acc: 0.9413\n",
            "Epoch 47/100\n",
            "230/230 [==============================] - 1s 4ms/step - loss: 0.1731 - acc: 0.9332 - val_loss: 0.1386 - val_acc: 0.9457\n",
            "Epoch 48/100\n",
            "230/230 [==============================] - 1s 4ms/step - loss: 0.1715 - acc: 0.9345 - val_loss: 0.1376 - val_acc: 0.9489\n",
            "Epoch 49/100\n",
            "230/230 [==============================] - 1s 4ms/step - loss: 0.1743 - acc: 0.9310 - val_loss: 0.1352 - val_acc: 0.9489\n",
            "Epoch 50/100\n",
            "230/230 [==============================] - 1s 4ms/step - loss: 0.1705 - acc: 0.9345 - val_loss: 0.1355 - val_acc: 0.9457\n",
            "Epoch 51/100\n",
            "230/230 [==============================] - 1s 4ms/step - loss: 0.1729 - acc: 0.9334 - val_loss: 0.1373 - val_acc: 0.9457\n",
            "Epoch 52/100\n",
            "230/230 [==============================] - 1s 5ms/step - loss: 0.1737 - acc: 0.9332 - val_loss: 0.1361 - val_acc: 0.9467\n",
            "Epoch 53/100\n",
            "230/230 [==============================] - 1s 6ms/step - loss: 0.1667 - acc: 0.9386 - val_loss: 0.1319 - val_acc: 0.9500\n",
            "Epoch 54/100\n",
            "230/230 [==============================] - 1s 6ms/step - loss: 0.1691 - acc: 0.9370 - val_loss: 0.1362 - val_acc: 0.9457\n",
            "Epoch 55/100\n",
            "230/230 [==============================] - 1s 4ms/step - loss: 0.1728 - acc: 0.9302 - val_loss: 0.1359 - val_acc: 0.9446\n",
            "Epoch 56/100\n",
            "230/230 [==============================] - 1s 3ms/step - loss: 0.1662 - acc: 0.9378 - val_loss: 0.1370 - val_acc: 0.9446\n",
            "Epoch 57/100\n",
            "230/230 [==============================] - 2s 8ms/step - loss: 0.1716 - acc: 0.9359 - val_loss: 0.1346 - val_acc: 0.9435\n",
            "Epoch 58/100\n",
            "230/230 [==============================] - 2s 7ms/step - loss: 0.1665 - acc: 0.9359 - val_loss: 0.1376 - val_acc: 0.9424\n",
            "Epoch 59/100\n",
            "230/230 [==============================] - 1s 5ms/step - loss: 0.1638 - acc: 0.9389 - val_loss: 0.1383 - val_acc: 0.9446\n",
            "Epoch 60/100\n",
            "230/230 [==============================] - 1s 4ms/step - loss: 0.1658 - acc: 0.9353 - val_loss: 0.1342 - val_acc: 0.9511\n",
            "Epoch 61/100\n",
            "230/230 [==============================] - 1s 4ms/step - loss: 0.1672 - acc: 0.9378 - val_loss: 0.1331 - val_acc: 0.9478\n",
            "Epoch 62/100\n",
            "230/230 [==============================] - 1s 4ms/step - loss: 0.1631 - acc: 0.9408 - val_loss: 0.1377 - val_acc: 0.9467\n",
            "Epoch 63/100\n",
            "230/230 [==============================] - 1s 4ms/step - loss: 0.1676 - acc: 0.9364 - val_loss: 0.1371 - val_acc: 0.9467\n",
            "Epoch 64/100\n",
            "230/230 [==============================] - 1s 5ms/step - loss: 0.1649 - acc: 0.9380 - val_loss: 0.1359 - val_acc: 0.9467\n",
            "Epoch 65/100\n",
            "230/230 [==============================] - 1s 6ms/step - loss: 0.1738 - acc: 0.9342 - val_loss: 0.1349 - val_acc: 0.9467\n",
            "Epoch 66/100\n",
            "230/230 [==============================] - 1s 6ms/step - loss: 0.1694 - acc: 0.9394 - val_loss: 0.1338 - val_acc: 0.9478\n",
            "Epoch 67/100\n",
            "230/230 [==============================] - 1s 4ms/step - loss: 0.1745 - acc: 0.9329 - val_loss: 0.1367 - val_acc: 0.9457\n",
            "Epoch 68/100\n",
            "230/230 [==============================] - 1s 3ms/step - loss: 0.1606 - acc: 0.9391 - val_loss: 0.1349 - val_acc: 0.9478\n",
            "Epoch 69/100\n",
            "230/230 [==============================] - 1s 3ms/step - loss: 0.1624 - acc: 0.9383 - val_loss: 0.1372 - val_acc: 0.9446\n",
            "Epoch 70/100\n",
            "230/230 [==============================] - 1s 3ms/step - loss: 0.1627 - acc: 0.9399 - val_loss: 0.1343 - val_acc: 0.9522\n",
            "Epoch 71/100\n",
            "230/230 [==============================] - 1s 3ms/step - loss: 0.1659 - acc: 0.9367 - val_loss: 0.1370 - val_acc: 0.9457\n",
            "Epoch 72/100\n",
            "230/230 [==============================] - 1s 4ms/step - loss: 0.1642 - acc: 0.9378 - val_loss: 0.1362 - val_acc: 0.9467\n",
            "Epoch 73/100\n",
            "230/230 [==============================] - 1s 4ms/step - loss: 0.1602 - acc: 0.9370 - val_loss: 0.1353 - val_acc: 0.9478\n",
            "Epoch 74/100\n",
            "230/230 [==============================] - 1s 3ms/step - loss: 0.1629 - acc: 0.9361 - val_loss: 0.1389 - val_acc: 0.9467\n",
            "Epoch 75/100\n",
            "230/230 [==============================] - 1s 3ms/step - loss: 0.1709 - acc: 0.9342 - val_loss: 0.1393 - val_acc: 0.9489\n",
            "Epoch 76/100\n",
            "230/230 [==============================] - 1s 3ms/step - loss: 0.1712 - acc: 0.9337 - val_loss: 0.1379 - val_acc: 0.9457\n",
            "Epoch 77/100\n",
            "230/230 [==============================] - 1s 3ms/step - loss: 0.1656 - acc: 0.9367 - val_loss: 0.1382 - val_acc: 0.9500\n",
            "Epoch 78/100\n",
            "230/230 [==============================] - 1s 4ms/step - loss: 0.1615 - acc: 0.9389 - val_loss: 0.1365 - val_acc: 0.9457\n",
            "Epoch 79/100\n",
            "230/230 [==============================] - 1s 5ms/step - loss: 0.1618 - acc: 0.9356 - val_loss: 0.1343 - val_acc: 0.9467\n",
            "Epoch 80/100\n",
            "230/230 [==============================] - 1s 5ms/step - loss: 0.1592 - acc: 0.9408 - val_loss: 0.1334 - val_acc: 0.9478\n",
            "Epoch 81/100\n",
            "230/230 [==============================] - 1s 5ms/step - loss: 0.1502 - acc: 0.9451 - val_loss: 0.1393 - val_acc: 0.9478\n",
            "Epoch 82/100\n",
            "230/230 [==============================] - 1s 3ms/step - loss: 0.1682 - acc: 0.9315 - val_loss: 0.1364 - val_acc: 0.9489\n",
            "Epoch 83/100\n",
            "230/230 [==============================] - 1s 4ms/step - loss: 0.1641 - acc: 0.9375 - val_loss: 0.1331 - val_acc: 0.9489\n",
            "Epoch 84/100\n",
            "230/230 [==============================] - 1s 4ms/step - loss: 0.1646 - acc: 0.9397 - val_loss: 0.1344 - val_acc: 0.9478\n",
            "Epoch 85/100\n",
            "230/230 [==============================] - 1s 3ms/step - loss: 0.1604 - acc: 0.9334 - val_loss: 0.1372 - val_acc: 0.9457\n",
            "Epoch 86/100\n",
            "230/230 [==============================] - 1s 3ms/step - loss: 0.1595 - acc: 0.9405 - val_loss: 0.1402 - val_acc: 0.9467\n",
            "Epoch 87/100\n",
            "230/230 [==============================] - 1s 3ms/step - loss: 0.1657 - acc: 0.9372 - val_loss: 0.1396 - val_acc: 0.9446\n",
            "Epoch 88/100\n",
            "230/230 [==============================] - 1s 3ms/step - loss: 0.1602 - acc: 0.9364 - val_loss: 0.1400 - val_acc: 0.9435\n",
            "Epoch 89/100\n",
            "230/230 [==============================] - 1s 4ms/step - loss: 0.1704 - acc: 0.9375 - val_loss: 0.1386 - val_acc: 0.9446\n",
            "Epoch 90/100\n",
            "230/230 [==============================] - 1s 4ms/step - loss: 0.1635 - acc: 0.9399 - val_loss: 0.1415 - val_acc: 0.9435\n",
            "Epoch 91/100\n",
            "230/230 [==============================] - 1s 4ms/step - loss: 0.1626 - acc: 0.9394 - val_loss: 0.1366 - val_acc: 0.9446\n",
            "Epoch 92/100\n",
            "230/230 [==============================] - 1s 4ms/step - loss: 0.1697 - acc: 0.9323 - val_loss: 0.1438 - val_acc: 0.9413\n",
            "Epoch 93/100\n",
            "230/230 [==============================] - 1s 4ms/step - loss: 0.1526 - acc: 0.9429 - val_loss: 0.1386 - val_acc: 0.9435\n",
            "Epoch 94/100\n",
            "230/230 [==============================] - 1s 6ms/step - loss: 0.1625 - acc: 0.9356 - val_loss: 0.1412 - val_acc: 0.9457\n",
            "Epoch 95/100\n",
            "230/230 [==============================] - 1s 6ms/step - loss: 0.1648 - acc: 0.9361 - val_loss: 0.1412 - val_acc: 0.9457\n",
            "Epoch 96/100\n",
            "230/230 [==============================] - 1s 4ms/step - loss: 0.1705 - acc: 0.9345 - val_loss: 0.1388 - val_acc: 0.9435\n",
            "Epoch 97/100\n",
            "230/230 [==============================] - 1s 3ms/step - loss: 0.1554 - acc: 0.9380 - val_loss: 0.1399 - val_acc: 0.9467\n",
            "Epoch 98/100\n",
            "230/230 [==============================] - 1s 3ms/step - loss: 0.1604 - acc: 0.9410 - val_loss: 0.1420 - val_acc: 0.9457\n",
            "Epoch 99/100\n",
            "230/230 [==============================] - 1s 3ms/step - loss: 0.1607 - acc: 0.9416 - val_loss: 0.1447 - val_acc: 0.9467\n",
            "Epoch 100/100\n",
            "230/230 [==============================] - 1s 4ms/step - loss: 0.1694 - acc: 0.9351 - val_loss: 0.1408 - val_acc: 0.9435\n"
          ]
        }
      ],
      "source": [
        "history = model.fit(x_train, y_train, validation_data=(x_test,y_test), epochs=100, batch_size=16)"
      ]
    },
    {
      "cell_type": "code",
      "execution_count": null,
      "metadata": {
        "colab": {
          "base_uri": "https://localhost:8080/",
          "height": 295
        },
        "id": "7Sq03ZsdONT-",
        "outputId": "f1f744d2-d6d7-4ee0-aae9-ca5ec4af8177"
      },
      "outputs": [
        {
          "output_type": "display_data",
          "data": {
            "text/plain": [
              "<Figure size 432x288 with 1 Axes>"
            ],
            "image/png": "[encoded data removed]"
          },
          "metadata": {
            "needs_background": "light"
          }
        }
      ],
      "source": [
        "from  matplotlib import pyplot as plt\n",
        "plt.plot(history.history['acc'])\n",
        "plt.plot(history.history['val_acc'])\n",
        "plt.title('model accuracy')\n",
        "plt.ylabel('accuracy')\n",
        "plt.xlabel('epoch')\n",
        "plt.legend(['train', 'test'], loc='upper left')\n",
        "plt.grid()\n",
        "plt.show()\n"
      ]
    },
    {
      "cell_type": "code",
      "execution_count": null,
      "metadata": {
        "colab": {
          "base_uri": "https://localhost:8080/"
        },
        "id": "ZnCfSBDJOoW1",
        "outputId": "5dcb5e3b-745f-4b99-83f0-bea40212bb0f"
      },
      "outputs": [
        {
          "output_type": "stream",
          "name": "stdout",
          "text": [
            "29/29 [==============================] - 0s 2ms/step\n"
          ]
        }
      ],
      "source": [
        "y_pred  = [1 if o>0.5 else 0 for o in model.predict(x_test)]"
      ]
    },
    {
      "cell_type": "code",
      "execution_count": null,
      "metadata": {
        "colab": {
          "base_uri": "https://localhost:8080/"
        },
        "id": "kV684NBoXVJM",
        "outputId": "936c0d3c-9645-42f7-abe5-2f6f5610c96d"
      },
      "outputs": [
        {
          "output_type": "stream",
          "name": "stdout",
          "text": [
            "[[510  28]\n",
            " [ 24 358]]\n"
          ]
        },
        {
          "output_type": "execute_result",
          "data": {
            "text/plain": [
              "0.9434782608695652"
            ]
          },
          "metadata": {},
          "execution_count": 12
        }
      ],
      "source": [
        "cf_matrix =confusion_matrix(y_test, y_pred)\n",
        "print(cf_matrix)\n",
        "accuracy_score(y_test, y_pred)"
      ]
    },
    {
      "cell_type": "code",
      "execution_count": null,
      "metadata": {
        "colab": {
          "base_uri": "https://localhost:8080/",
          "height": 295
        },
        "id": "e_ITISJfX2vf",
        "outputId": "78216023-b31c-4bae-f83b-20340ae858c8"
      },
      "outputs": [
        {
          "output_type": "display_data",
          "data": {
            "text/plain": [
              "<Figure size 432x288 with 2 Axes>"
            ],
            "image/png": "[encoded data removed]"
          },
          "metadata": {
            "needs_background": "light"
          }
        }
      ],
      "source": [
        "import seaborn as sns\n",
        "import matplotlib.pyplot as plt\n",
        "\n",
        "ax= plt.subplot()\n",
        "sns.heatmap(cf_matrix, annot=True, ax = ax,cmap='Blues',fmt=''); #annot=True to annotate cells\n",
        "\n",
        "ax.set_xlabel('Predicted labels');\n",
        "ax.set_ylabel('True labels');\n",
        "ax.set_title('Confusion Matrix');\n",
        "ax.xaxis.set_ticklabels(['Not Spam', 'Spam']); ax.yaxis.set_ticklabels(['Not Spam', 'Spam']);"
      ]
    },
    {
      "cell_type": "code",
      "execution_count": null,
      "metadata": {
        "id": "T9GkVDUcO98B"
      },
      "outputs": [],
      "source": [
        "tn, fp, fn, tp = confusion_matrix(y_test, y_pred).ravel()"
      ]
    },
    {
      "cell_type": "code",
      "execution_count": null,
      "metadata": {
        "colab": {
          "base_uri": "https://localhost:8080/"
        },
        "id": "uJDOSAiSQYwm",
        "outputId": "78f280cb-a049-4225-9689-f2f48a454412"
      },
      "outputs": [
        {
          "output_type": "stream",
          "name": "stdout",
          "text": [
            "Precision: 92.75%\n",
            "Recall: 93.72%\n",
            "F1 Score: 93.23%\n"
          ]
        }
      ],
      "source": [
        "print(\"Precision: {:.2f}%\".format(100 * precision_score(y_test, y_pred)))\n",
        "print(\"Recall: {:.2f}%\".format(100 * recall_score(y_test, y_pred)))\n",
        "print(\"F1 Score: {:.2f}%\".format(100 * f1_score(y_test, y_pred)))"
      ]
    },
    {
      "cell_type": "code",
      "execution_count": null,
      "metadata": {
        "colab": {
          "base_uri": "https://localhost:8080/"
        },
        "id": "1id9q2b4Qh8A",
        "outputId": "3fbab5bd-bb7f-4db6-b8c3-ddfe18971532"
      },
      "outputs": [
        {
          "output_type": "execute_result",
          "data": {
            "text/plain": [
              "0.9322916666666667"
            ]
          },
          "metadata": {},
          "execution_count": 31
        }
      ],
      "source": [
        "f1_score(y_test, y_pred)"
      ]
    },
    {
      "cell_type": "code",
      "execution_count": null,
      "metadata": {
        "colab": {
          "base_uri": "https://localhost:8080/",
          "height": 295
        },
        "id": "1s-OBljZQ-SM",
        "outputId": "8343619d-cf02-4c3b-b8c2-d60188eda61e"
      },
      "outputs": [
        {
          "output_type": "display_data",
          "data": {
            "text/plain": [
              "<Figure size 432x288 with 1 Axes>"
            ],
            "image/png": "[encoded data removed]"
          },
          "metadata": {
            "needs_background": "light"
          }
        }
      ],
      "source": [
        "loss_train = history.history['loss']\n",
        "loss_val = history.history['val_loss']\n",
        "epochs = range(1,101)\n",
        "plt.plot(epochs, loss_train, 'g', label='Training loss')\n",
        "plt.plot(epochs, loss_val, 'b', label='validation loss')\n",
        "plt.title('Training and Validation loss')\n",
        "plt.xlabel('Epochs')\n",
        "plt.ylabel('Loss')\n",
        "plt.legend()\n",
        "plt.show()"
      ]
    },
    {
      "cell_type": "code",
      "execution_count": null,
      "metadata": {
        "id": "H9tGkvQNRFst"
      },
      "outputs": [],
      "source": []
    }
  ],
  "metadata": {
    "colab": {
      "provenance": []
    },
    "kernelspec": {
      "display_name": "Python 3",
      "name": "python3"
    },
    "language_info": {
      "name": "python"
    }
  },
  "nbformat": 4,
  "nbformat_minor": 0
}